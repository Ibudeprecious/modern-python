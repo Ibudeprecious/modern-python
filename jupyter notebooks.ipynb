{
 "cells": [
  {
   "cell_type": "markdown",
   "id": "f1a951ee",
   "metadata": {},
   "source": [
    "# **Heading 1**"
   ]
  },
  {
   "cell_type": "markdown",
   "id": "59f75f10",
   "metadata": {},
   "source": [
    "## **Heading 2**"
   ]
  },
  {
   "cell_type": "code",
   "execution_count": 2,
   "id": "cf368fe9",
   "metadata": {},
   "outputs": [],
   "source": [
    "import numpy as np"
   ]
  },
  {
   "cell_type": "markdown",
   "id": "2ab064c0",
   "metadata": {},
   "source": [
    "* list 1"
   ]
  },
  {
   "cell_type": "code",
   "execution_count": null,
   "id": "0ee487a3",
   "metadata": {},
   "outputs": [],
   "source": []
  }
 ],
 "metadata": {
  "kernelspec": {
   "display_name": "myenv",
   "language": "python",
   "name": "python3"
  },
  "language_info": {
   "codemirror_mode": {
    "name": "ipython",
    "version": 3
   },
   "file_extension": ".py",
   "mimetype": "text/x-python",
   "name": "python",
   "nbconvert_exporter": "python",
   "pygments_lexer": "ipython3",
   "version": "3.11.11"
  }
 },
 "nbformat": 4,
 "nbformat_minor": 5
}
